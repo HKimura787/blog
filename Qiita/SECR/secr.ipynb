{
 "cells": [
  {
   "cell_type": "code",
   "execution_count": 5,
   "metadata": {},
   "outputs": [
    {
     "name": "stderr",
     "output_type": "stream",
     "text": [
      "C:\\Users\\earth\\AppData\\Local\\Temp\\ipykernel_15764\\3405174402.py:53: MatplotlibDeprecationWarning: Setting data with a non sequence type is deprecated since 3.7 and will be remove two minor releases later\n",
      "  center_point.set_data(center_x, center_y)\n"
     ]
    },
    {
     "data": {
      "image/png": "[encoded data removed]",
      "text/plain": [
       "<Figure size 432x288 with 1 Axes>"
      ]
     },
     "metadata": {
      "needs_background": "light"
     },
     "output_type": "display_data"
    }
   ],
   "source": [
    "import random\n",
    "import math\n",
    "import matplotlib.pyplot as plt\n",
    "import matplotlib.animation as animation\n",
    "\n",
    "# 個体数\n",
    "num_individuals = 100\n",
    "\n",
    "# 中心点の座標\n",
    "center_x, center_y = 0, 0\n",
    "\n",
    "# 移動範囲の半径\n",
    "radius = 10\n",
    "\n",
    "# 個体の初期位置\n",
    "positions = [(random.uniform(-radius, radius), random.uniform(-radius, radius)) for _ in range(num_individuals)]\n",
    "\n",
    "# シミュレーションのステップ数\n",
    "num_steps = 100\n",
    "\n",
    "# グラフの設定\n",
    "fig, ax = plt.subplots()\n",
    "ax.set_xlim(-radius - 1, radius + 1)\n",
    "ax.set_ylim(-radius - 1, radius + 1)\n",
    "ax.set_aspect('equal')\n",
    "\n",
    "# プロットオブジェクトの初期化\n",
    "particles, = ax.plot([], [], 'bo', ms=3)\n",
    "center_point, = ax.plot([], [], 'rx', ms=10)\n",
    "\n",
    "# アニメーション関数\n",
    "def animate(frame):\n",
    "    # 各個体の移動\n",
    "    for i in range(num_individuals):\n",
    "        # ランダムな方向と距離を決める\n",
    "        angle = random.uniform(0, 2 * math.pi)\n",
    "        distance = random.uniform(0, 1)\n",
    "        \n",
    "        # 新しい位置を計算\n",
    "        new_x = positions[i][0] + distance * math.cos(angle)\n",
    "        new_y = positions[i][1] + distance * math.sin(angle)\n",
    "        \n",
    "        # 移動範囲を超えないようにする\n",
    "        if ((new_x - center_x)**2 + (new_y - center_y)**2) > radius**2:\n",
    "            continue\n",
    "        \n",
    "        # 位置を更新\n",
    "        positions[i] = (new_x, new_y)\n",
    "    \n",
    "    # プロットデータを更新\n",
    "    x_coords, y_coords = zip(*positions)\n",
    "    particles.set_data(x_coords, y_coords)\n",
    "    center_point.set_data(center_x, center_y)\n",
    "    \n",
    "    return particles, center_point\n",
    "\n",
    "# アニメーションを作成\n",
    "ani = animation.FuncAnimation(fig, animate, frames=num_steps, interval=50, blit=True)\n",
    "\n",
    "plt.show()"
   ]
  },
  {
   "cell_type": "code",
   "execution_count": 254,
   "metadata": {},
   "outputs": [
    {
     "data": {
      "image/png": "[encoded data removed]",
      "text/plain": [
       "<Figure size 432x432 with 1 Axes>"
      ]
     },
     "metadata": {
      "needs_background": "light"
     },
     "output_type": "display_data"
    }
   ],
   "source": [
    "from random_moving import random_moving as rm\n",
    "\n",
    "rm1 = rm(0,0,target_variance=100,proposal_range=50,moving_range=30)\n",
    "rm1list_x,rm1list_y = rm1.do_random_walk(48)\n",
    "\n",
    "# plot rm1list\n",
    "from matplotlib import pyplot as plt\n",
    "radius = 100\n",
    "\n",
    "fig, ax = plt.subplots(figsize=(6, 6))\n",
    "ax.set_xlim(-radius - 1, radius + 1)\n",
    "ax.set_ylim(-radius - 1, radius + 1)\n",
    "ax.scatter(rm1list_x, rm1list_y)\n",
    "plt.show()"
   ]
  },
  {
   "cell_type": "code",
   "execution_count": 255,
   "metadata": {},
   "outputs": [
    {
     "data": {
      "text/plain": [
       "[0.9836248347175243,\n",
       " 0.9836248347175243,\n",
       " 0.9836248347175243,\n",
       " 0.9836248347175243,\n",
       " 0.9836248347175243,\n",
       " 0.9836248347175243,\n",
       " 0.9836248347175243,\n",
       " 0.9836248347175243,\n",
       " 0.9836248347175243,\n",
       " -12.062328694518932,\n",
       " -12.062328694518932,\n",
       " -12.062328694518932,\n",
       " -6.387068187038658,\n",
       " -6.387068187038658,\n",
       " -6.387068187038658,\n",
       " -6.387068187038658,\n",
       " -0.2013176446647975,\n",
       " -0.2013176446647975,\n",
       " -0.2013176446647975,\n",
       " -2.109971724189684,\n",
       " -2.109971724189684,\n",
       " -2.109971724189684,\n",
       " -2.109971724189684,\n",
       " -2.109971724189684,\n",
       " -2.109971724189684,\n",
       " -2.109971724189684,\n",
       " -2.109971724189684,\n",
       " -2.109971724189684,\n",
       " -2.109971724189684,\n",
       " -2.109971724189684,\n",
       " -2.109971724189684,\n",
       " -2.109971724189684,\n",
       " 17.273302587902542,\n",
       " 17.273302587902542,\n",
       " 17.273302587902542,\n",
       " -3.074278400607664,\n",
       " -3.074278400607664,\n",
       " -3.074278400607664,\n",
       " -3.074278400607664,\n",
       " -3.074278400607664,\n",
       " -3.074278400607664,\n",
       " -3.074278400607664,\n",
       " -3.074278400607664,\n",
       " -3.074278400607664,\n",
       " -3.074278400607664,\n",
       " -3.074278400607664,\n",
       " -3.074278400607664,\n",
       " -3.074278400607664]"
      ]
     },
     "execution_count": 255,
     "metadata": {},
     "output_type": "execute_result"
    }
   ],
   "source": [
    "rm1list_x"
   ]
  }
 ],
 "metadata": {
  "kernelspec": {
   "display_name": "stanpy",
   "language": "python",
   "name": "python3"
  },
  "language_info": {
   "codemirror_mode": {
    "name": "ipython",
    "version": 3
   },
   "file_extension": ".py",
   "mimetype": "text/x-python",
   "name": "python",
   "nbconvert_exporter": "python",
   "pygments_lexer": "ipython3",
   "version": "3.10.5"
  }
 },
 "nbformat": 4,
 "nbformat_minor": 2
}
