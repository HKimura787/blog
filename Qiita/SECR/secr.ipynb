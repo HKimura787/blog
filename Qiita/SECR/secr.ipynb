{
 "cells": [
  {
   "cell_type": "code",
   "execution_count": 1,
   "metadata": {},
   "outputs": [
    {
     "name": "stderr",
     "output_type": "stream",
     "text": [
      "/var/folders/29/x077rvnn49d8bx2svybfmrp00000gn/T/ipykernel_78417/3405174402.py:53: MatplotlibDeprecationWarning: Setting data with a non sequence type is deprecated since 3.7 and will be remove two minor releases later\n",
      "  center_point.set_data(center_x, center_y)\n"
     ]
    },
    {
     "data": {
      "image/png": "[encoded data removed]",
      "text/plain": [
       "<Figure size 640x480 with 1 Axes>"
      ]
     },
     "metadata": {},
     "output_type": "display_data"
    }
   ],
   "source": [
    "import random\n",
    "import math\n",
    "import matplotlib.pyplot as plt\n",
    "import matplotlib.animation as animation\n",
    "\n",
    "# 個体数\n",
    "num_individuals = 100\n",
    "\n",
    "# 中心点の座標\n",
    "center_x, center_y = 0, 0\n",
    "\n",
    "# 移動範囲の半径\n",
    "radius = 10\n",
    "\n",
    "# 個体の初期位置\n",
    "positions = [(random.uniform(-radius, radius), random.uniform(-radius, radius)) for _ in range(num_individuals)]\n",
    "\n",
    "# シミュレーションのステップ数\n",
    "num_steps = 100\n",
    "\n",
    "# グラフの設定\n",
    "fig, ax = plt.subplots()\n",
    "ax.set_xlim(-radius - 1, radius + 1)\n",
    "ax.set_ylim(-radius - 1, radius + 1)\n",
    "ax.set_aspect('equal')\n",
    "\n",
    "# プロットオブジェクトの初期化\n",
    "particles, = ax.plot([], [], 'bo', ms=3)\n",
    "center_point, = ax.plot([], [], 'rx', ms=10)\n",
    "\n",
    "# アニメーション関数\n",
    "def animate(frame):\n",
    "    # 各個体の移動\n",
    "    for i in range(num_individuals):\n",
    "        # ランダムな方向と距離を決める\n",
    "        angle = random.uniform(0, 2 * math.pi)\n",
    "        distance = random.uniform(0, 1)\n",
    "        \n",
    "        # 新しい位置を計算\n",
    "        new_x = positions[i][0] + distance * math.cos(angle)\n",
    "        new_y = positions[i][1] + distance * math.sin(angle)\n",
    "        \n",
    "        # 移動範囲を超えないようにする\n",
    "        if ((new_x - center_x)**2 + (new_y - center_y)**2) > radius**2:\n",
    "            continue\n",
    "        \n",
    "        # 位置を更新\n",
    "        positions[i] = (new_x, new_y)\n",
    "    \n",
    "    # プロットデータを更新\n",
    "    x_coords, y_coords = zip(*positions)\n",
    "    particles.set_data(x_coords, y_coords)\n",
    "    center_point.set_data(center_x, center_y)\n",
    "    \n",
    "    return particles, center_point\n",
    "\n",
    "# アニメーションを作成\n",
    "ani = animation.FuncAnimation(fig, animate, frames=num_steps, interval=50, blit=True)\n",
    "\n",
    "plt.show()"
   ]
  },
  {
   "cell_type": "code",
   "execution_count": 3,
   "metadata": {},
   "outputs": [
    {
     "ename": "AxisError",
     "evalue": "axis 2 is out of bounds for array of dimension 2",
     "output_type": "error",
     "traceback": [
      "\u001b[0;31m---------------------------------------------------------------------------\u001b[0m",
      "\u001b[0;31mAxisError\u001b[0m                                 Traceback (most recent call last)",
      "Cell \u001b[0;32mIn[3], line 9\u001b[0m\n\u001b[1;32m      7\u001b[0m sp1 \u001b[38;5;241m=\u001b[39m sp(\u001b[38;5;241m-\u001b[39m\u001b[38;5;241m200\u001b[39m, \u001b[38;5;241m200\u001b[39m, \u001b[38;5;241m20\u001b[39m, \u001b[38;5;241m-\u001b[39m\u001b[38;5;241m200\u001b[39m, \u001b[38;5;241m200\u001b[39m, \u001b[38;5;241m20\u001b[39m, \u001b[38;5;241m2\u001b[39m)\n\u001b[1;32m      8\u001b[0m \u001b[38;5;66;03m# sp1list_x,sp1list_y = sp1.get_sample(rm1list_x,rm1list_y)\u001b[39;00m\n\u001b[0;32m----> 9\u001b[0m sample \u001b[38;5;241m=\u001b[39m \u001b[43msp1\u001b[49m\u001b[38;5;241;43m.\u001b[39;49m\u001b[43mget_sample\u001b[49m\u001b[43m(\u001b[49m\u001b[43mrm1list_x\u001b[49m\u001b[43m,\u001b[49m\u001b[43mrm1list_y\u001b[49m\u001b[43m)\u001b[49m\n\u001b[1;32m     12\u001b[0m \u001b[38;5;66;03m# plot rm1list\u001b[39;00m\n\u001b[1;32m     13\u001b[0m \u001b[38;5;28;01mfrom\u001b[39;00m \u001b[38;5;21;01mmatplotlib\u001b[39;00m \u001b[38;5;28;01mimport\u001b[39;00m pyplot \u001b[38;5;28;01mas\u001b[39;00m plt\n",
      "File \u001b[0;32m~/Dev/private/blog/Qiita/SECR/sampling.py:38\u001b[0m, in \u001b[0;36msample.get_sample\u001b[0;34m(self, x_list, y_list)\u001b[0m\n\u001b[1;32m     36\u001b[0m \u001b[38;5;66;03m# 総当たりで距離を計算\u001b[39;00m\n\u001b[1;32m     37\u001b[0m xx, yy \u001b[38;5;241m=\u001b[39m np\u001b[38;5;241m.\u001b[39mmeshgrid(tuple_xy, sampling_points)\n\u001b[0;32m---> 38\u001b[0m distances \u001b[38;5;241m=\u001b[39m \u001b[43mnp\u001b[49m\u001b[38;5;241;43m.\u001b[39;49m\u001b[43mlinalg\u001b[49m\u001b[38;5;241;43m.\u001b[39;49m\u001b[43mnorm\u001b[49m\u001b[43m(\u001b[49m\u001b[43mxx\u001b[49m\u001b[43m \u001b[49m\u001b[38;5;241;43m-\u001b[39;49m\u001b[43m \u001b[49m\u001b[43myy\u001b[49m\u001b[43m,\u001b[49m\u001b[43m \u001b[49m\u001b[43maxis\u001b[49m\u001b[38;5;241;43m=\u001b[39;49m\u001b[38;5;241;43m2\u001b[39;49m\u001b[43m)\u001b[49m\n\u001b[1;32m     39\u001b[0m distances_diag \u001b[38;5;241m=\u001b[39m np\u001b[38;5;241m.\u001b[39mfill_diagonal(distances, np\u001b[38;5;241m.\u001b[39mnan)\n\u001b[1;32m     41\u001b[0m \u001b[38;5;66;03m# 距離が範囲内の点を取得\u001b[39;00m\n",
      "File \u001b[0;32m~/.venv/dev_310/lib/python3.10/site-packages/numpy/linalg/linalg.py:2583\u001b[0m, in \u001b[0;36mnorm\u001b[0;34m(x, ord, axis, keepdims)\u001b[0m\n\u001b[1;32m   2580\u001b[0m \u001b[38;5;28;01melif\u001b[39;00m \u001b[38;5;28mord\u001b[39m \u001b[38;5;129;01mis\u001b[39;00m \u001b[38;5;28;01mNone\u001b[39;00m \u001b[38;5;129;01mor\u001b[39;00m \u001b[38;5;28mord\u001b[39m \u001b[38;5;241m==\u001b[39m \u001b[38;5;241m2\u001b[39m:\n\u001b[1;32m   2581\u001b[0m     \u001b[38;5;66;03m# special case for speedup\u001b[39;00m\n\u001b[1;32m   2582\u001b[0m     s \u001b[38;5;241m=\u001b[39m (x\u001b[38;5;241m.\u001b[39mconj() \u001b[38;5;241m*\u001b[39m x)\u001b[38;5;241m.\u001b[39mreal\n\u001b[0;32m-> 2583\u001b[0m     \u001b[38;5;28;01mreturn\u001b[39;00m sqrt(\u001b[43madd\u001b[49m\u001b[38;5;241;43m.\u001b[39;49m\u001b[43mreduce\u001b[49m\u001b[43m(\u001b[49m\u001b[43ms\u001b[49m\u001b[43m,\u001b[49m\u001b[43m \u001b[49m\u001b[43maxis\u001b[49m\u001b[38;5;241;43m=\u001b[39;49m\u001b[43maxis\u001b[49m\u001b[43m,\u001b[49m\u001b[43m \u001b[49m\u001b[43mkeepdims\u001b[49m\u001b[38;5;241;43m=\u001b[39;49m\u001b[43mkeepdims\u001b[49m\u001b[43m)\u001b[49m)\n\u001b[1;32m   2584\u001b[0m \u001b[38;5;66;03m# None of the str-type keywords for ord ('fro', 'nuc')\u001b[39;00m\n\u001b[1;32m   2585\u001b[0m \u001b[38;5;66;03m# are valid for vectors\u001b[39;00m\n\u001b[1;32m   2586\u001b[0m \u001b[38;5;28;01melif\u001b[39;00m \u001b[38;5;28misinstance\u001b[39m(\u001b[38;5;28mord\u001b[39m, \u001b[38;5;28mstr\u001b[39m):\n",
      "\u001b[0;31mAxisError\u001b[0m: axis 2 is out of bounds for array of dimension 2"
     ]
    }
   ],
   "source": [
    "from random_moving import random_moving as rm\n",
    "from sampling import sample as sp\n",
    "\n",
    "rm1 = rm(0,0,target_variance=1000,proposal_range=50,start_range=50)\n",
    "rm1list_x,rm1list_y = rm1.do_random_walk(48)\n",
    "\n",
    "sp1 = sp(-200, 200, 20, -200, 200, 20, 2)\n",
    "# sp1list_x,sp1list_y = sp1.get_sample(rm1list_x,rm1list_y)\n",
    "sample = sp1.get_sample(rm1list_x,rm1list_y)\n",
    "\n",
    "\n",
    "# plot rm1list\n",
    "from matplotlib import pyplot as plt\n",
    "radius = 100\n",
    "\n",
    "fig, ax = plt.subplots(figsize=(6, 6))\n",
    "ax.set_xlim(-radius - 1, radius + 1)\n",
    "ax.set_ylim(-radius - 1, radius + 1)\n",
    "ax.scatter(rm1list_x, rm1list_y)\n",
    "sp1.plot_sampling_point(ax)\n",
    "plt.show()"
   ]
  },
  {
   "cell_type": "code",
   "execution_count": 3,
   "metadata": {},
   "outputs": [
    {
     "data": {
      "text/plain": [
       "48"
      ]
     },
     "execution_count": 3,
     "metadata": {},
     "output_type": "execute_result"
    }
   ],
   "source": [
    "len(rm1list_x)"
   ]
  },
  {
   "cell_type": "code",
   "execution_count": 4,
   "metadata": {},
   "outputs": [
    {
     "data": {
      "text/plain": [
       "59"
      ]
     },
     "execution_count": 4,
     "metadata": {},
     "output_type": "execute_result"
    }
   ],
   "source": [
    "len(sp1list_x)"
   ]
  },
  {
   "cell_type": "code",
   "execution_count": 5,
   "metadata": {},
   "outputs": [
    {
     "data": {
      "image/png": "[encoded data removed]",
      "text/plain": [
       "<Figure size 600x600 with 1 Axes>"
      ]
     },
     "metadata": {},
     "output_type": "display_data"
    }
   ],
   "source": [
    "fig, ax = plt.subplots(figsize=(6, 6))\n",
    "ax.set_xlim(-radius - 1, radius + 1)\n",
    "ax.set_ylim(-radius - 1, radius + 1)\n",
    "ax.scatter(rm1list_x, rm1list_y)\n",
    "ax.scatter(sp1list_x, sp1list_y, c='red')\n",
    "sp1.plot_sampling_point(ax)\n",
    "plt.show()"
   ]
  },
  {
   "cell_type": "code",
   "execution_count": 3,
   "metadata": {},
   "outputs": [
    {
     "data": {
      "text/plain": [
       "[-26.695162915032345,\n",
       " -2.2604894069261583,\n",
       " 35.350401569123804,\n",
       " 35.350401569123804,\n",
       " 35.350401569123804,\n",
       " -14.178652858921879,\n",
       " -28.40929844949705,\n",
       " -53.525449655964714,\n",
       " -53.525449655964714,\n",
       " -81.45909327525149,\n",
       " -81.45909327525149,\n",
       " -81.45909327525149,\n",
       " -59.50213786010784,\n",
       " -41.37806363320249,\n",
       " -15.835953746084428,\n",
       " 27.99845453871734,\n",
       " 27.99845453871734,\n",
       " -6.37943284520513,\n",
       " -47.698754584126306,\n",
       " -5.383714323001641,\n",
       " -5.383714323001641,\n",
       " -28.34461951127005,\n",
       " -5.191544834024821,\n",
       " -31.47182666900521,\n",
       " -15.408953866525266,\n",
       " -15.408953866525266,\n",
       " -15.408953866525266,\n",
       " 17.6432538911602,\n",
       " 2.237739830787284,\n",
       " 3.51141483467093,\n",
       " 22.125490246551507,\n",
       " 32.32469861527042,\n",
       " 19.319291973592655,\n",
       " 67.60935505825009,\n",
       " 58.06915487180311,\n",
       " 58.06915487180311,\n",
       " 58.06915487180311,\n",
       " 58.06915487180311,\n",
       " 58.06915487180311,\n",
       " 29.23703967379647,\n",
       " 29.23703967379647,\n",
       " 30.525257930128657,\n",
       " 30.525257930128657,\n",
       " 30.525257930128657,\n",
       " 36.93525606611868,\n",
       " 36.93525606611868,\n",
       " 45.480544978210645,\n",
       " 45.480544978210645]"
      ]
     },
     "execution_count": 3,
     "metadata": {},
     "output_type": "execute_result"
    }
   ],
   "source": [
    "rm1list_x"
   ]
  }
 ],
 "metadata": {
  "kernelspec": {
   "display_name": "stanpy",
   "language": "python",
   "name": "python3"
  },
  "language_info": {
   "codemirror_mode": {
    "name": "ipython",
    "version": 3
   },
   "file_extension": ".py",
   "mimetype": "text/x-python",
   "name": "python",
   "nbconvert_exporter": "python",
   "pygments_lexer": "ipython3",
   "version": "3.10.13"
  }
 },
 "nbformat": 4,
 "nbformat_minor": 2
}
