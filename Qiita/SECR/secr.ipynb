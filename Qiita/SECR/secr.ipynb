{
 "cells": [
  {
   "cell_type": "code",
   "execution_count": 5,
   "metadata": {},
   "outputs": [
    {
     "name": "stderr",
     "output_type": "stream",
     "text": [
      "C:\\Users\\earth\\AppData\\Local\\Temp\\ipykernel_15764\\3405174402.py:53: MatplotlibDeprecationWarning: Setting data with a non sequence type is deprecated since 3.7 and will be remove two minor releases later\n",
      "  center_point.set_data(center_x, center_y)\n"
     ]
    },
    {
     "data": {
      "image/png": "[encoded data removed]",
      "text/plain": [
       "<Figure size 432x288 with 1 Axes>"
      ]
     },
     "metadata": {
      "needs_background": "light"
     },
     "output_type": "display_data"
    }
   ],
   "source": [
    "import random\n",
    "import math\n",
    "import matplotlib.pyplot as plt\n",
    "import matplotlib.animation as animation\n",
    "\n",
    "# 個体数\n",
    "num_individuals = 100\n",
    "\n",
    "# 中心点の座標\n",
    "center_x, center_y = 0, 0\n",
    "\n",
    "# 移動範囲の半径\n",
    "radius = 10\n",
    "\n",
    "# 個体の初期位置\n",
    "positions = [(random.uniform(-radius, radius), random.uniform(-radius, radius)) for _ in range(num_individuals)]\n",
    "\n",
    "# シミュレーションのステップ数\n",
    "num_steps = 100\n",
    "\n",
    "# グラフの設定\n",
    "fig, ax = plt.subplots()\n",
    "ax.set_xlim(-radius - 1, radius + 1)\n",
    "ax.set_ylim(-radius - 1, radius + 1)\n",
    "ax.set_aspect('equal')\n",
    "\n",
    "# プロットオブジェクトの初期化\n",
    "particles, = ax.plot([], [], 'bo', ms=3)\n",
    "center_point, = ax.plot([], [], 'rx', ms=10)\n",
    "\n",
    "# アニメーション関数\n",
    "def animate(frame):\n",
    "    # 各個体の移動\n",
    "    for i in range(num_individuals):\n",
    "        # ランダムな方向と距離を決める\n",
    "        angle = random.uniform(0, 2 * math.pi)\n",
    "        distance = random.uniform(0, 1)\n",
    "        \n",
    "        # 新しい位置を計算\n",
    "        new_x = positions[i][0] + distance * math.cos(angle)\n",
    "        new_y = positions[i][1] + distance * math.sin(angle)\n",
    "        \n",
    "        # 移動範囲を超えないようにする\n",
    "        if ((new_x - center_x)**2 + (new_y - center_y)**2) > radius**2:\n",
    "            continue\n",
    "        \n",
    "        # 位置を更新\n",
    "        positions[i] = (new_x, new_y)\n",
    "    \n",
    "    # プロットデータを更新\n",
    "    x_coords, y_coords = zip(*positions)\n",
    "    particles.set_data(x_coords, y_coords)\n",
    "    center_point.set_data(center_x, center_y)\n",
    "    \n",
    "    return particles, center_point\n",
    "\n",
    "# アニメーションを作成\n",
    "ani = animation.FuncAnimation(fig, animate, frames=num_steps, interval=50, blit=True)\n",
    "\n",
    "plt.show()"
   ]
  },
  {
   "cell_type": "code",
   "execution_count": 11,
   "metadata": {},
   "outputs": [
    {
     "data": {
      "image/png": "[encoded data removed]",
      "text/plain": [
       "<Figure size 432x432 with 1 Axes>"
      ]
     },
     "metadata": {
      "needs_background": "light"
     },
     "output_type": "display_data"
    }
   ],
   "source": [
    "from random_moving import random_moving as rm\n",
    "\n",
    "rm1 = rm(0,0,target_variance=1000,proposal_range=50,start_range=50)\n",
    "rm1list_x,rm1list_y = rm1.do_random_walk(48)\n",
    "\n",
    "# plot rm1list\n",
    "from matplotlib import pyplot as plt\n",
    "radius = 100\n",
    "\n",
    "fig, ax = plt.subplots(figsize=(6, 6))\n",
    "ax.set_xlim(-radius - 1, radius + 1)\n",
    "ax.set_ylim(-radius - 1, radius + 1)\n",
    "ax.scatter(rm1list_x, rm1list_y)\n",
    "plt.show()"
   ]
  },
  {
   "cell_type": "code",
   "execution_count": 12,
   "metadata": {},
   "outputs": [
    {
     "data": {
      "text/plain": [
       "[-33.69729796067022,\n",
       " -33.69729796067022,\n",
       " -21.932781610350013,\n",
       " -21.932781610350013,\n",
       " 17.07143705688747,\n",
       " -19.029508310279013,\n",
       " -19.029508310279013,\n",
       " -8.596614158068697,\n",
       " -8.596614158068697,\n",
       " 13.48377262171136,\n",
       " 51.67625214366313,\n",
       " 51.67625214366313,\n",
       " 20.93170612444998,\n",
       " 20.93170612444998,\n",
       " -14.976164013846919,\n",
       " -62.890279729285496,\n",
       " -62.890279729285496,\n",
       " -38.632147770934395,\n",
       " -16.429546021145725,\n",
       " 7.229950276506031,\n",
       " 7.229950276506031,\n",
       " 7.229950276506031,\n",
       " 7.229950276506031,\n",
       " -21.00475448062527,\n",
       " -5.921928915501173,\n",
       " -5.921928915501173,\n",
       " -5.921928915501173,\n",
       " 29.679826107633726,\n",
       " 2.7991392755589395,\n",
       " 1.5939481458119467,\n",
       " 1.5939481458119467,\n",
       " 1.5939481458119467,\n",
       " 1.5939481458119467,\n",
       " 1.5939481458119467,\n",
       " 1.5939481458119467,\n",
       " 1.5939481458119467,\n",
       " 14.168004724384947,\n",
       " 49.47603814176672,\n",
       " 41.66301607156758,\n",
       " 11.729234298590384,\n",
       " 21.678808402261296,\n",
       " 1.8192117906864596,\n",
       " 1.8192117906864596,\n",
       " 31.256269138039563,\n",
       " 5.977173384081837,\n",
       " 20.293174723825388,\n",
       " -2.2533197700639356,\n",
       " -2.2533197700639356]"
      ]
     },
     "execution_count": 12,
     "metadata": {},
     "output_type": "execute_result"
    }
   ],
   "source": [
    "rm1list_x"
   ]
  }
 ],
 "metadata": {
  "kernelspec": {
   "display_name": "stanpy",
   "language": "python",
   "name": "python3"
  },
  "language_info": {
   "codemirror_mode": {
    "name": "ipython",
    "version": 3
   },
   "file_extension": ".py",
   "mimetype": "text/x-python",
   "name": "python",
   "nbconvert_exporter": "python",
   "pygments_lexer": "ipython3",
   "version": "3.10.5"
  }
 },
 "nbformat": 4,
 "nbformat_minor": 2
}
